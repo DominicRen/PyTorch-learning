{
 "cells": [
  {
   "cell_type": "code",
   "execution_count": 1,
   "metadata": {},
   "outputs": [],
   "source": [
    "import torch\n",
    "import numpy as np"
   ]
  },
  {
   "cell_type": "code",
   "execution_count": 2,
   "metadata": {},
   "outputs": [
    {
     "data": {
      "text/plain": [
       "'torch.FloatTensor'"
      ]
     },
     "execution_count": 2,
     "metadata": {},
     "output_type": "execute_result"
    }
   ],
   "source": [
    "a = torch.randn(2, 3)\n",
    "a.type()"
   ]
  },
  {
   "cell_type": "code",
   "execution_count": 3,
   "metadata": {},
   "outputs": [
    {
     "data": {
      "text/plain": [
       "torch.Tensor"
      ]
     },
     "execution_count": 3,
     "metadata": {},
     "output_type": "execute_result"
    }
   ],
   "source": [
    "type(a)"
   ]
  },
  {
   "cell_type": "code",
   "execution_count": 4,
   "metadata": {},
   "outputs": [
    {
     "data": {
      "text/plain": [
       "True"
      ]
     },
     "execution_count": 4,
     "metadata": {},
     "output_type": "execute_result"
    }
   ],
   "source": [
    "isinstance(a, torch.FloatTensor)"
   ]
  },
  {
   "cell_type": "code",
   "execution_count": 5,
   "metadata": {},
   "outputs": [
    {
     "data": {
      "text/plain": [
       "False"
      ]
     },
     "execution_count": 5,
     "metadata": {},
     "output_type": "execute_result"
    }
   ],
   "source": [
    "isinstance(a, torch.cuda.FloatTensor)"
   ]
  },
  {
   "cell_type": "code",
   "execution_count": 6,
   "metadata": {},
   "outputs": [
    {
     "data": {
      "text/plain": [
       "True"
      ]
     },
     "execution_count": 6,
     "metadata": {},
     "output_type": "execute_result"
    }
   ],
   "source": [
    "a = a.cuda()\n",
    "isinstance(a, torch.cuda.FloatTensor)"
   ]
  },
  {
   "cell_type": "markdown",
   "metadata": {},
   "source": [
    "### dim 0"
   ]
  },
  {
   "cell_type": "code",
   "execution_count": 7,
   "metadata": {},
   "outputs": [
    {
     "data": {
      "text/plain": [
       "tensor(1.3000)"
      ]
     },
     "execution_count": 7,
     "metadata": {},
     "output_type": "execute_result"
    }
   ],
   "source": [
    "torch.tensor(1.3)"
   ]
  },
  {
   "cell_type": "code",
   "execution_count": 8,
   "metadata": {},
   "outputs": [
    {
     "data": {
      "text/plain": [
       "torch.Size([])"
      ]
     },
     "execution_count": 8,
     "metadata": {},
     "output_type": "execute_result"
    }
   ],
   "source": [
    "a = torch.tensor(2.2)\n",
    "a.shape"
   ]
  },
  {
   "cell_type": "code",
   "execution_count": 9,
   "metadata": {},
   "outputs": [
    {
     "data": {
      "text/plain": [
       "0"
      ]
     },
     "execution_count": 9,
     "metadata": {},
     "output_type": "execute_result"
    }
   ],
   "source": [
    "len(a.shape)"
   ]
  },
  {
   "cell_type": "code",
   "execution_count": 10,
   "metadata": {},
   "outputs": [
    {
     "data": {
      "text/plain": [
       "torch.Size([])"
      ]
     },
     "execution_count": 10,
     "metadata": {},
     "output_type": "execute_result"
    }
   ],
   "source": [
    "a.size()"
   ]
  },
  {
   "cell_type": "markdown",
   "metadata": {},
   "source": [
    "### dim 1"
   ]
  },
  {
   "cell_type": "code",
   "execution_count": 11,
   "metadata": {},
   "outputs": [
    {
     "data": {
      "text/plain": [
       "tensor([1.1000, 2.2000])"
      ]
     },
     "execution_count": 11,
     "metadata": {},
     "output_type": "execute_result"
    }
   ],
   "source": [
    "torch.tensor([1.1, 2.2])"
   ]
  },
  {
   "cell_type": "code",
   "execution_count": 12,
   "metadata": {},
   "outputs": [
    {
     "data": {
      "text/plain": [
       "torch.Size([2])"
      ]
     },
     "execution_count": 12,
     "metadata": {},
     "output_type": "execute_result"
    }
   ],
   "source": [
    "torch.FloatTensor(2).shape"
   ]
  },
  {
   "cell_type": "code",
   "execution_count": 13,
   "metadata": {},
   "outputs": [
    {
     "data": {
      "text/plain": [
       "array([1., 1.])"
      ]
     },
     "execution_count": 13,
     "metadata": {},
     "output_type": "execute_result"
    }
   ],
   "source": [
    "data = np.ones(2)\n",
    "data"
   ]
  },
  {
   "cell_type": "code",
   "execution_count": 14,
   "metadata": {},
   "outputs": [
    {
     "data": {
      "text/plain": [
       "tensor([1., 1.], dtype=torch.float64)"
      ]
     },
     "execution_count": 14,
     "metadata": {},
     "output_type": "execute_result"
    }
   ],
   "source": [
    "torch.from_numpy(data)"
   ]
  },
  {
   "cell_type": "code",
   "execution_count": 15,
   "metadata": {},
   "outputs": [
    {
     "data": {
      "text/plain": [
       "torch.Size([1])"
      ]
     },
     "execution_count": 15,
     "metadata": {},
     "output_type": "execute_result"
    }
   ],
   "source": [
    "a = torch.ones(1)\n",
    "a.shape"
   ]
  },
  {
   "cell_type": "markdown",
   "metadata": {},
   "source": [
    "### dim 2"
   ]
  },
  {
   "cell_type": "code",
   "execution_count": 16,
   "metadata": {},
   "outputs": [
    {
     "data": {
      "text/plain": [
       "tensor([[-1.0545,  1.0059,  1.4703],\n",
       "        [-1.0995,  0.3736, -1.4261]])"
      ]
     },
     "execution_count": 16,
     "metadata": {},
     "output_type": "execute_result"
    }
   ],
   "source": [
    "a = torch.randn(2, 3)\n",
    "a"
   ]
  },
  {
   "cell_type": "code",
   "execution_count": 17,
   "metadata": {},
   "outputs": [
    {
     "data": {
      "text/plain": [
       "torch.Size([2, 3])"
      ]
     },
     "execution_count": 17,
     "metadata": {},
     "output_type": "execute_result"
    }
   ],
   "source": [
    "a.shape"
   ]
  },
  {
   "cell_type": "code",
   "execution_count": 18,
   "metadata": {},
   "outputs": [
    {
     "data": {
      "text/plain": [
       "2"
      ]
     },
     "execution_count": 18,
     "metadata": {},
     "output_type": "execute_result"
    }
   ],
   "source": [
    "a.size(0)"
   ]
  },
  {
   "cell_type": "code",
   "execution_count": 19,
   "metadata": {},
   "outputs": [
    {
     "data": {
      "text/plain": [
       "3"
      ]
     },
     "execution_count": 19,
     "metadata": {},
     "output_type": "execute_result"
    }
   ],
   "source": [
    "a.shape[1]"
   ]
  },
  {
   "cell_type": "markdown",
   "metadata": {},
   "source": [
    "### dim 3"
   ]
  },
  {
   "cell_type": "code",
   "execution_count": 20,
   "metadata": {},
   "outputs": [
    {
     "data": {
      "text/plain": [
       "tensor([[[0.2661, 0.2866, 0.1413],\n",
       "         [0.0406, 0.1751, 0.3077]]])"
      ]
     },
     "execution_count": 20,
     "metadata": {},
     "output_type": "execute_result"
    }
   ],
   "source": [
    "a = torch.rand(1, 2, 3)\n",
    "a"
   ]
  },
  {
   "cell_type": "code",
   "execution_count": 21,
   "metadata": {},
   "outputs": [
    {
     "data": {
      "text/plain": [
       "torch.Size([1, 2, 3])"
      ]
     },
     "execution_count": 21,
     "metadata": {},
     "output_type": "execute_result"
    }
   ],
   "source": [
    "a.shape"
   ]
  },
  {
   "cell_type": "code",
   "execution_count": 22,
   "metadata": {},
   "outputs": [
    {
     "data": {
      "text/plain": [
       "tensor([[0.2661, 0.2866, 0.1413],\n",
       "        [0.0406, 0.1751, 0.3077]])"
      ]
     },
     "execution_count": 22,
     "metadata": {},
     "output_type": "execute_result"
    }
   ],
   "source": [
    "a[0]"
   ]
  },
  {
   "cell_type": "code",
   "execution_count": 23,
   "metadata": {},
   "outputs": [
    {
     "data": {
      "text/plain": [
       "[1, 2, 3]"
      ]
     },
     "execution_count": 23,
     "metadata": {},
     "output_type": "execute_result"
    }
   ],
   "source": [
    "list(a.shape)"
   ]
  },
  {
   "cell_type": "markdown",
   "metadata": {},
   "source": [
    "### dim 4"
   ]
  },
  {
   "cell_type": "code",
   "execution_count": 24,
   "metadata": {},
   "outputs": [
    {
     "data": {
      "text/plain": [
       "tensor([[[[0.6641, 0.2864, 0.6857,  ..., 0.7823, 0.8619, 0.1815],\n",
       "          [0.1917, 0.9650, 0.0313,  ..., 0.0904, 0.2687, 0.1883],\n",
       "          [0.5358, 0.0711, 0.3372,  ..., 0.8311, 0.7764, 0.4785],\n",
       "          ...,\n",
       "          [0.7880, 0.9058, 0.6060,  ..., 0.7201, 0.6522, 0.5221],\n",
       "          [0.0882, 0.6401, 0.8812,  ..., 0.3059, 0.4254, 0.5358],\n",
       "          [0.6550, 0.8157, 0.9168,  ..., 0.8706, 0.7290, 0.1619]],\n",
       "\n",
       "         [[0.9383, 0.9188, 0.2994,  ..., 0.6767, 0.0875, 0.6819],\n",
       "          [0.2419, 0.9255, 0.6931,  ..., 0.8273, 0.5832, 0.9346],\n",
       "          [0.6923, 0.7506, 0.9320,  ..., 0.1873, 0.5738, 0.5723],\n",
       "          ...,\n",
       "          [0.6404, 0.4206, 0.0478,  ..., 0.5027, 0.0387, 0.8525],\n",
       "          [0.1256, 0.7951, 0.0042,  ..., 0.2060, 0.5542, 0.7196],\n",
       "          [0.3270, 0.4880, 0.9567,  ..., 0.3842, 0.7960, 0.1456]],\n",
       "\n",
       "         [[0.8511, 0.9445, 0.7036,  ..., 0.6845, 0.9976, 0.6192],\n",
       "          [0.3380, 0.5152, 0.9032,  ..., 0.3576, 0.0812, 0.2736],\n",
       "          [0.0224, 0.4128, 0.9843,  ..., 0.4171, 0.5784, 0.5308],\n",
       "          ...,\n",
       "          [0.6063, 0.6326, 0.0091,  ..., 0.3326, 0.0017, 0.6055],\n",
       "          [0.5630, 0.3010, 0.3968,  ..., 0.8896, 0.2671, 0.3889],\n",
       "          [0.4101, 0.6872, 0.2007,  ..., 0.8695, 0.7901, 0.3227]]],\n",
       "\n",
       "\n",
       "        [[[0.1213, 0.6712, 0.8245,  ..., 0.2683, 0.3301, 0.8324],\n",
       "          [0.3774, 0.8638, 0.0898,  ..., 0.1383, 0.1778, 0.9876],\n",
       "          [0.2019, 0.5574, 0.4317,  ..., 0.0990, 0.2129, 0.2815],\n",
       "          ...,\n",
       "          [0.0214, 0.6682, 0.0215,  ..., 0.0821, 0.0453, 0.2793],\n",
       "          [0.1301, 0.5920, 0.7362,  ..., 0.7869, 0.6553, 0.9451],\n",
       "          [0.0838, 0.4694, 0.2101,  ..., 0.8600, 0.9562, 0.2374]],\n",
       "\n",
       "         [[0.0569, 0.6951, 0.1223,  ..., 0.2692, 0.2137, 0.2058],\n",
       "          [0.0484, 0.0510, 0.3117,  ..., 0.1990, 0.7614, 0.3626],\n",
       "          [0.7693, 0.7730, 0.6676,  ..., 0.5109, 0.0743, 0.7648],\n",
       "          ...,\n",
       "          [0.1712, 0.0310, 0.6647,  ..., 0.1758, 0.2834, 0.5071],\n",
       "          [0.7018, 0.3354, 0.2615,  ..., 0.4309, 0.0099, 0.3867],\n",
       "          [0.9862, 0.4650, 0.1590,  ..., 0.3347, 0.5209, 0.2879]],\n",
       "\n",
       "         [[0.0624, 0.0311, 0.4872,  ..., 0.2474, 0.0253, 0.3456],\n",
       "          [0.9992, 0.5882, 0.7895,  ..., 0.3755, 0.7042, 0.9746],\n",
       "          [0.7150, 0.2742, 0.5738,  ..., 0.9613, 0.1654, 0.0288],\n",
       "          ...,\n",
       "          [0.0496, 0.2087, 0.7550,  ..., 0.4845, 0.9736, 0.3120],\n",
       "          [0.2201, 0.0608, 0.4735,  ..., 0.4269, 0.7199, 0.4900],\n",
       "          [0.0390, 0.7358, 0.2261,  ..., 0.4547, 0.7218, 0.6909]]]])"
      ]
     },
     "execution_count": 24,
     "metadata": {},
     "output_type": "execute_result"
    }
   ],
   "source": [
    "a = torch.rand(2, 3, 28, 28)\n",
    "a"
   ]
  },
  {
   "cell_type": "code",
   "execution_count": 25,
   "metadata": {},
   "outputs": [
    {
     "data": {
      "text/plain": [
       "torch.Size([2, 3, 28, 28])"
      ]
     },
     "execution_count": 25,
     "metadata": {},
     "output_type": "execute_result"
    }
   ],
   "source": [
    "a.shape"
   ]
  },
  {
   "cell_type": "markdown",
   "metadata": {},
   "source": [
    "### mixed"
   ]
  },
  {
   "cell_type": "code",
   "execution_count": 26,
   "metadata": {},
   "outputs": [
    {
     "data": {
      "text/plain": [
       "4704"
      ]
     },
     "execution_count": 26,
     "metadata": {},
     "output_type": "execute_result"
    }
   ],
   "source": [
    "a.numel()  # number of element"
   ]
  },
  {
   "cell_type": "code",
   "execution_count": 27,
   "metadata": {},
   "outputs": [
    {
     "data": {
      "text/plain": [
       "4"
      ]
     },
     "execution_count": 27,
     "metadata": {},
     "output_type": "execute_result"
    }
   ],
   "source": [
    "a.dim()"
   ]
  },
  {
   "cell_type": "code",
   "execution_count": null,
   "metadata": {},
   "outputs": [],
   "source": []
  }
 ],
 "metadata": {
  "kernelspec": {
   "display_name": "Python 3",
   "language": "python",
   "name": "python3"
  },
  "language_info": {
   "codemirror_mode": {
    "name": "ipython",
    "version": 3
   },
   "file_extension": ".py",
   "mimetype": "text/x-python",
   "name": "python",
   "nbconvert_exporter": "python",
   "pygments_lexer": "ipython3",
   "version": "3.7.1"
  }
 },
 "nbformat": 4,
 "nbformat_minor": 2
}
